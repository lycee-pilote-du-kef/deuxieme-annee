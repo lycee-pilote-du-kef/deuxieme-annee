{
 "cells": [
  {
   "cell_type": "markdown",
   "metadata": {},
   "source": [
    "from IPython.display import HTML"
   ]
  },
  {
   "cell_type": "markdown",
   "metadata": {},
   "source": [
    "<h1>Commencer</h1>"
   ]
  },
  {
   "cell_type": "markdown",
   "metadata": {},
   "source": [
    "Dans cette leçon, vous allez éditer et écrire du code dans un langage appelé Python . Vous ferez cela dans un espace de travail , comme indiqué ci-dessous."
   ]
  },
  {
   "cell_type": "code",
   "execution_count": 3,
   "metadata": {},
   "outputs": [],
   "source": [
    "import turtle\n",
    "fred = turtle.Turtle()\n",
    "fred.color(\"red\")\n",
    "fred.forward(100)\n",
    "fred.right(135)\n",
    "fred.forward(140)\n",
    "fred.right(135)\n",
    "fred.forward(100)"
   ]
  },
  {
   "attachments": {
    "774d41de-6a72-4ef1-9048-2181b5d53ebb.png": {
     "image/png": "[encoded data removed]"
    }
   },
   "cell_type": "markdown",
   "metadata": {},
   "source": [
    "![image.png](attachment:774d41de-6a72-4ef1-9048-2181b5d53ebb.png)"
   ]
  },
  {
   "cell_type": "markdown",
   "metadata": {},
   "source": [
    "Au milieu de l'espace de travail se trouve un éditeur dans lequel vous allez écrire du code. Juste en bas, vous verrez ce que fait le code. Le bouton Exécuter en haut indique à l'espace de travail de commencer à exécuter votre code.\n",
    "\n",
    "Pour commencer, copiez et collez le code dans l'espace de travail:"
   ]
  },
  {
   "cell_type": "code",
   "execution_count": 1,
   "metadata": {},
   "outputs": [],
   "source": [
    "import turtle\n",
    "fred = turtle.Turtle()\n",
    "fred.color(\"red\")\n",
    "fred.forward(100)\n",
    "fred.right(135)\n",
    "fred.forward(140)\n",
    "fred.right(135)\n",
    "fred.forward(100)"
   ]
  },
  {
   "cell_type": "markdown",
   "metadata": {},
   "source": [
    "Vous n'avez probablement aucune idée de ce que signifie ce code, et c'est tout à fait correct! Au cours des prochaines pages, vous allez l'expérimenter afin de comprendre comment cela fonctionne.\n",
    "\n",
    "Après l'avoir collé dans l'espace de travail, cliquez sur le bouton Exécuter .\n",
    "\n",
    "Les lignes de code que vous avez collées ci-dessus sont un programme - un ensemble d'instructions que l'ordinateur doit suivre. Dans ce cas, ce programme indique à l'ordinateur de dessiner un triangle sur l'écran.\n",
    "\n",
    "Dans cette leçon, vous allez écrire des programmes qui donnent des instructions aux tortues(turtle) afin de leur faire créer différentes formes et motifs. Vous pouvez penser des tortues comme des robots virtuels qui savent comment dessiner des lignes sur l'écran, à la suite des commandes telles que <strong>forward</strong>, <strong>back</strong>, <strong>left</strong> et <strong>right</strong>.\n"
   ]
  },
  {
   "cell_type": "markdown",
   "metadata": {},
   "source": [
    "<h1>Jouez avec!</h1>\n",
    "\n",
    "Vous pouvez modifier les instructions dans le code ci-dessus. Expérimenter avec du code est un excellent moyen d'apprendre comment cela fonctionne. Essayez de changer les chiffres. Essayez de dupliquer certaines des instructions par copier-coller! Appuyez toujours à nouveau sur Exécuter pour voir ce que fait votre code.\n",
    "\n",
    "Vous ne pouvez pas vous tromper ici - lorsque vous recevez un message d'erreur, vous pouvez utiliser la commande Annuler ( Ctrl+Z sous Windows, ⌘Zsur Mac) pour annuler une modification. Vous pouvez annuler autant de fois que vous le souhaitez, jusqu'au code de démarrage d'origine.\n",
    "\n",
    "<b>Remarque:</b> si l'éditeur n'est pas sélectionné, la commande Annuler ne fonctionnera pas. Donc, si la commande Annuler ne semble pas fonctionner, assurez-vous d'avoir d'abord cliqué dans l'éditeur dans l'espace de travail."
   ]
  },
  {
   "cell_type": "markdown",
   "metadata": {},
   "source": [
    "<video controls>\n",
    "  <source src=\"video1.mp4\" type=\"video/mp4\">\n",
    "  <p>Votre navigateur ne prend pas en charge les vidéos HTML5.\n",
    "     Voici <a href=\"myVideo.mp4\">un lien pour télécharger la vidéo</a>.</p>\n",
    "</video>"
   ]
  },
  {
   "cell_type": "code",
   "execution_count": 1,
   "metadata": {},
   "outputs": [
    {
     "data": {
      "text/html": [
       "<video src=\"video1.mp4\" controls  >\n",
       "      Your browser does not support the <code>video</code> element.\n",
       "    </video>"
      ],
      "text/plain": [
       "<IPython.core.display.Video object>"
      ]
     },
     "execution_count": 1,
     "metadata": {},
     "output_type": "execute_result"
    }
   ],
   "source": [
    "from IPython.display import Video\n",
    "\n",
    "Video(\"video1.mp4\")"
   ]
  },
  {
   "cell_type": "code",
   "execution_count": 18,
   "metadata": {},
   "outputs": [
    {
     "data": {
      "text/html": [
       "\n",
       "<iframe width=\"727\" height=\"409\" src=\"https://www.youtube.com/embed/nBj8D_meKsA\" frameborder=\"0\" allow=\"accelerometer; autoplay; encrypted-media; gyroscope; picture-in-picture\" allowfullscreen></iframe>\n"
      ],
      "text/plain": [
       "<IPython.core.display.HTML object>"
      ]
     },
     "execution_count": 18,
     "metadata": {},
     "output_type": "execute_result"
    }
   ],
   "source": [
    "from IPython.display import HTML\n",
    "\n",
    "HTML(\"\"\"\n",
    "<iframe width=\"727\" height=\"409\" src=\"https://www.youtube.com/embed/nBj8D_meKsA\" frameborder=\"0\" allow=\"accelerometer; autoplay; encrypted-media; gyroscope; picture-in-picture\" allowfullscreen></iframe>\n",
    "\"\"\")\n"
   ]
  }
 ],
 "metadata": {
  "kernelspec": {
   "display_name": "Python 3",
   "language": "python",
   "name": "python3"
  },
  "language_info": {
   "codemirror_mode": {
    "name": "ipython",
    "version": 3
   },
   "file_extension": ".py",
   "mimetype": "text/x-python",
   "name": "python",
   "nbconvert_exporter": "python",
   "pygments_lexer": "ipython3",
   "version": "3.8.3"
  }
 },
 "nbformat": 4,
 "nbformat_minor": 4
}
